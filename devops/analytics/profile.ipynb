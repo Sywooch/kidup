{
 "cells": [
  {
   "cell_type": "markdown",
   "metadata": {},
   "source": [
    "How do \"real users\" (without the fake ones) fill out their profile data?"
   ]
  },
  {
   "cell_type": "code",
   "execution_count": 76,
   "metadata": {},
   "outputs": [
    {
     "data": {
      "text/html": [
       "<div>\n",
       "<table border=\"1\" class=\"dataframe\">\n",
       "  <thead>\n",
       "    <tr style=\"text-align: right;\">\n",
       "      <th></th>\n",
       "      <th>all</th>\n",
       "      <th>email_verified</th>\n",
       "      <th>phone_verified</th>\n",
       "      <th>social_accounts</th>\n",
       "      <th>without_description</th>\n",
       "      <th>without_first_name</th>\n",
       "      <th>without_img</th>\n",
       "      <th>without_last_name</th>\n",
       "      <th>without_phone</th>\n",
       "    </tr>\n",
       "  </thead>\n",
       "  <tbody>\n",
       "    <tr>\n",
       "      <th>0</th>\n",
       "      <td>1284</td>\n",
       "      <td>26</td>\n",
       "      <td>9</td>\n",
       "      <td>925</td>\n",
       "      <td>294</td>\n",
       "      <td>176</td>\n",
       "      <td>450</td>\n",
       "      <td>176</td>\n",
       "      <td>1253</td>\n",
       "    </tr>\n",
       "  </tbody>\n",
       "</table>\n",
       "</div>"
      ]
     },
     "output_type": "execute_result",
     "metadata": {}
    }
   ],
   "source": [
    "import pandas as pd\n",
    "from matplotlib import pyplot as plt\n",
    "import pymysql\n",
    "% matplotlib inline\n",
    "\n",
    "connection = pymysql.connect(host='kidup-production.c5gkrouylqmw.eu-central-1.rds.amazonaws.com',\n",
    "                             user='kidup_148161251',\n",
    "                             password='knop0602R',\n",
    "                             db='kidup',\n",
    "                             charset='utf8mb4',\n",
    "                             cursorclass=pymysql.cursors.DictCursor)\n",
    "df = pd.read_sql_query(\"\"\"select * from profile WHERE user_id not in (1,4,7,142,3940)\n",
    "and !(user_id > 4900 and user_id < 5248)\"\"\", connection)\n",
    "\n",
    "plot_df = {}\n",
    "plot_df['without_first_name'] = len(df[df.first_name == ''])\n",
    "plot_df['without_last_name'] = len(df[df.last_name == ''])\n",
    "plot_df['without_description'] = len(df[(df.description.str.len() < 6)])\n",
    "plot_df['without_img'] = len(df[(df.img == 'kidup/user/default-face.jpg')])\n",
    "plot_df['without_phone'] = len(df[pd.isnull(df.phone_number)])\n",
    "plot_df['email_verified'] = len(df[df.email_verified == 1])\n",
    "plot_df['phone_verified'] = len(df[df.phone_verified == 1])\n",
    "plot_df['all'] = len(df)\n",
    "soc_accounts = pd.read_sql_query(\"\"\"select count(1) as cnt from social_account \"\"\", connection)\n",
    "plot_df['social_accounts'] = soc_accounts.cnt[0]\n",
    "\n",
    "df_tmp = pd.DataFrame(plot_df, index=[0])\n",
    "df_tmp"
   ]
  },
  {
   "cell_type": "code",
   "execution_count": 78,
   "metadata": {},
   "outputs": [
    {
     "data": {
      "text/html": [
       "<div>\n",
       "<table border=\"1\" class=\"dataframe\">\n",
       "  <thead>\n",
       "    <tr style=\"text-align: right;\">\n",
       "      <th></th>\n",
       "      <th>all</th>\n",
       "      <th>email_verified</th>\n",
       "      <th>phone_verified</th>\n",
       "      <th>social_accounts</th>\n",
       "      <th>without_description</th>\n",
       "      <th>without_first_name</th>\n",
       "      <th>without_img</th>\n",
       "      <th>without_last_name</th>\n",
       "      <th>without_phone</th>\n",
       "    </tr>\n",
       "  </thead>\n",
       "  <tbody>\n",
       "    <tr>\n",
       "      <th>0</th>\n",
       "      <td>1</td>\n",
       "      <td>0.020249</td>\n",
       "      <td>0.007009</td>\n",
       "      <td>0.720405</td>\n",
       "      <td>0.228972</td>\n",
       "      <td>0.137072</td>\n",
       "      <td>0.350467</td>\n",
       "      <td>0.137072</td>\n",
       "      <td>0.975857</td>\n",
       "    </tr>\n",
       "  </tbody>\n",
       "</table>\n",
       "</div>"
      ]
     },
     "output_type": "execute_result",
     "metadata": {}
    }
   ],
   "source": [
    "plot_df2 = {}\n",
    "\n",
    "for i, data in enumerate(plot_df):\n",
    "    plot_df2[data] = int(plot_df[data])/1284\n",
    " \n",
    "df_tmp = pd.DataFrame(plot_df2, index=[0])\n",
    "df_tmp"
   ]
  },
  {
   "cell_type": "markdown",
   "metadata": {},
   "source": [
    "Interestingly, users fill out a lot of information, especially the information that we force them to provide in the post-registration. A lot of the signups are social, and a lot of users have an image (which is automated when signing up over facebook).\n"
   ]
  },
  {
   "cell_type": "markdown",
   "metadata": {},
   "source": [
    "### Is it possible to seperate non-Facebook user behaviour from Facebook user behaviour? (If so, then we could target this behaviour to improve the traffic streams)"
   ]
  },
  {
   "cell_type": "code",
   "execution_count": 88,
   "metadata": {},
   "outputs": [
    {
     "name": "stdout",
     "output_type": "stream",
     "text": [
      "7.41513513514 Page views per user that signed up via facebook\n8.44846796657 Page views per user that signed up via email\n"
     ]
    }
   ],
   "source": [
    "df = pd.read_sql_query(\"\"\"select count(1) as cnt from tracking_event\n",
    " WHERE user_id in (select distinct user_id from social_account)\n",
    "and type='page_view'\"\"\", connection)\n",
    "df2 = pd.read_sql_query(\"\"\"select count(1) as cnt from tracking_event\n",
    " WHERE user_id not in (select distinct user_id from social_account)\n",
    "and type='page_view'\"\"\", connection)\n",
    "soc_acc = pd.read_sql_query(\"\"\"select count(1) as cnt from social_account\"\"\", connection)\n",
    "\n",
    "print((df.cnt[0])/(soc_acc.cnt[0]), \"Page views per user that signed up via facebook\")\n",
    "print((df2.cnt[0])/(1284 - soc_acc.cnt[0]), \"Page views per user that signed up via email\")"
   ]
  },
  {
   "cell_type": "markdown",
   "metadata": {},
   "source": [
    ""
   ]
  }
 ],
 "metadata": {
  "kernelspec": {
   "display_name": "Python 3",
   "language": "python",
   "name": "python3"
  },
  "language_info": {
   "codemirror_mode": {
    "name": "ipython",
    "version": 3.0
   },
   "file_extension": ".py",
   "mimetype": "text/x-python",
   "name": "python",
   "nbconvert_exporter": "python",
   "pygments_lexer": "ipython3",
   "version": "3.5.1"
  }
 },
 "nbformat": 4,
 "nbformat_minor": 0
}