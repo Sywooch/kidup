{
 "cells": [
  {
   "cell_type": "markdown",
   "metadata": {},
   "source": [
    "How often are certain page types visited (search, item, home etc.)\n"
   ]
  },
  {
   "cell_type": "code",
   "execution_count": 15,
   "metadata": {},
   "outputs": [
    {
     "data": {
      "image/png": "[encoded data removed]"
     },
     "output_type": "display_data",
     "text": [
      "<matplotlib.figure.Figure at 0x1d39f186048>"
     ],
     "metadata": {}
    },
    {
     "data": {
      "text/plain": [
       "data\nbooking            88\nhome             6893\ninbox              91\nitem             2640\nitem-create       354\npages             692\npost-reg          184\nsearch           3098\nunknown            13\nuser              782\nuser-referral    1756\ndtype: int64"
      ]
     },
     "execution_count": 15,
     "output_type": "execute_result",
     "metadata": {}
    }
   ],
   "source": [
    "import pandas as pd\n",
    "from matplotlib import pyplot as plt\n",
    "% matplotlib inline\n",
    "\n",
    "df = pd.read_hdf(\"filtered_data.hdf\", \"df1\")\n",
    "\n",
    "def page_entity(page):\n",
    "    p = False\n",
    "    if page == \"/\" or page == '/home' or \"?ref=\" in page or page == 'x/home':\n",
    "        p = 'home'\n",
    "    if \"/item/\" in page:\n",
    "        p = 'item'\n",
    "    if \"/p/\" in page:\n",
    "        p = 'pages'\n",
    "    if \"/user/\" in page:\n",
    "        p = 'user'\n",
    "    if \"/user/refe\" in page:\n",
    "        p = 'user-referral'\n",
    "    if \"/search\" in page:\n",
    "        p = 'search'\n",
    "    if \"/inbo\" in page:\n",
    "        p = 'inbox'\n",
    "    if \"/booking/\" in page:\n",
    "        p = 'booking'\n",
    "    if \"/item/create\" in page:\n",
    "        p = 'item-create'\n",
    "    if \"/user/registration/post-registration\" in page:\n",
    "        p = 'post-reg'\n",
    "    if p == False:\n",
    "        p = 'unknown'\n",
    "    return p\n",
    "\n",
    "df.data = df.data.apply(lambda x: page_entity(x))\n",
    "df_pv = df[df.source == 1]\n",
    "df_pv = df_pv[df_pv.type == 'page_view']\n",
    "cnt_df = df_pv.data.groupby(df_pv.data).count()\n",
    "cnt_df.plot(kind=\"bar\", subplots=True)\n",
    "\n",
    "plt.show()\n",
    "cnt_df"
   ]
  },
  {
   "cell_type": "markdown",
   "metadata": {},
   "source": [
    "How often do users return to our site, how many sessions?\n"
   ]
  },
  {
   "cell_type": "code",
   "execution_count": 71,
   "metadata": {},
   "outputs": [
    {
     "name": "stdout",
     "output_type": "stream",
     "text": [
      "6250 Unique sessions\n",
      "437 Unique users\n",
      "833 Unique sessions from users\n",
      "1.9061784897025171 Avg sessions per user\n",
      "0.86672 Percentage sessions from non-user\n"
     ]
    }
   ],
   "source": [
    "df = pd.read_hdf(\"filtered_data.hdf\", \"df1\")\n",
    "df = df[df.source == 1]\n",
    "unique_sessions = df.session.nunique()\n",
    "user_session = df[pd.notnull(df.user_id)].session.nunique()\n",
    "print(df.session.nunique(), \"Unique sessions\")\n",
    "print(df.user_id.nunique(), \"Unique users\")\n",
    "print(df[pd.notnull(df.user_id)].session.nunique(), \"Unique sessions from users\")\n",
    "print(df[pd.notnull(df.user_id)].session.nunique() / df.user_id.nunique(), \"Avg sessions per user\")\n",
    "print((unique_sessions - user_session) / unique_sessions, \"Percentage sessions from non-user\")"
   ]
  },
  {
   "cell_type": "markdown",
   "metadata": {},
   "source": [
    "Where do a lot of users drop out (which pages)?"
   ]
  },
  {
   "cell_type": "code",
   "execution_count": 16,
   "metadata": {},
   "outputs": [
    {
     "data": {
      "image/png": "[encoded data removed]"
     },
     "output_type": "display_data",
     "text": [
      "<matplotlib.figure.Figure at 0x1d3a3b501d0>"
     ],
     "metadata": {}
    },
    {
     "data": {
      "text/plain": [
       "page\nbooking            10\nhome             3552\ninbo               10\ninbox               2\nitem              698\nitem-create        30\npages             206\npost-reg           21\nsearch            635\nunknown             5\nuser              215\nuser-referral     795\ndtype: int64"
      ]
     },
     "execution_count": 16,
     "output_type": "execute_result",
     "metadata": {}
    }
   ],
   "source": [
    "import pandas as pd\n",
    "from matplotlib import pyplot as plt\n",
    "%matplotlib inline\n",
    "df = pd.read_hdf(\"filtered_data.hdf\", \"df1\")\n",
    "def page_entity(page):\n",
    "    p = False\n",
    "    if page == \"/\" or page == '/home' or \"?ref=\" in page or page == 'x/home':\n",
    "        p = 'home'\n",
    "    if \"/item/\" in page:\n",
    "        p = 'item'\n",
    "    if \"/p/\" in page:\n",
    "        p = 'pages'\n",
    "    if \"/user/\" in page:\n",
    "        p = 'user'\n",
    "    if \"/user/refe\" in page:\n",
    "        p = 'user-referral'\n",
    "    if \"/search\" in page:\n",
    "        p = 'search'\n",
    "    if \"/inbo\" in page:\n",
    "        p = 'inbox'\n",
    "    if \"/booking/\" in page:\n",
    "        p = 'booking'\n",
    "    if \"/item/create\" in page:\n",
    "        p = 'item-create'\n",
    "    if \"/user/registration/post-registration\" in page:\n",
    "        p = 'post-reg'\n",
    "    if p == False:\n",
    "        p = 'unknown'\n",
    "    return p\n",
    "\n",
    "df.data = df.data.apply(lambda x: page_entity(x))\n",
    "df = df[df.source == 1]\n",
    "df = df[df.type == 'page_view']\n",
    "df = df.sort_values('created_at', ascending=False)\n",
    "df = df.groupby(\"session\").agg(lambda x: \"xxx\".join(x))  # type: pd.DataFrame\n",
    "leaving_pages = []\n",
    "for i in df.itertuples():\n",
    "    leaving_pages.append(i.data.split('xxx')[0])\n",
    "    exit()\n",
    "    \n",
    "df = pd.DataFrame(leaving_pages)\n",
    "df.columns = [\"page\"]\n",
    "cnt_df = df['page'].groupby(df['page']).count()\n",
    "cnt_df.plot(kind=\"bar\", subplots=True)\n",
    "\n",
    "plt.show()\n",
    "cnt_df"
   ]
  },
  {
   "cell_type": "markdown",
   "metadata": {},
   "source": [
    "Comparing the two outputs (the table from the top and this one), a lot of users drop out from the home page and the user-referral page. (50% and ~35% more or less). Item create pages, post registration, search have very low dropout, item page is somewhere in the middle (26.4%)."
   ]
  },
  {
   "cell_type": "markdown",
   "metadata": {},
   "source": [
    "## Clustering the first 4 page visits of a user"
   ]
  },
  {
   "cell_type": "code",
   "execution_count": 1,
   "metadata": {},
   "outputs": [],
   "source": [
    "import pandas as pd\n",
    "from matplotlib import pyplot as plt\n",
    "%matplotlib inline\n",
    "df = pd.read_hdf(\"filtered_data.hdf\", \"df1\")\n",
    "df = df[df.source == 1]\n",
    "df = df[df.type == 'page_view']\n",
    "def page_entity(page):\n",
    "    p = False\n",
    "    if page == \"/\" or page == '/home' or \"?ref=\" in page or page == 'x/home':\n",
    "        p = 'home'\n",
    "    if \"/item/\" in page:\n",
    "        p = 'item'\n",
    "    if \"/p/\" in page:\n",
    "        p = 'pages'\n",
    "    if \"/user/\" in page:\n",
    "        p = 'user'\n",
    "    if \"/user/refe\" in page:\n",
    "        p = 'user-referral'\n",
    "    if \"/search\" in page:\n",
    "        p = 'search'\n",
    "    if \"/search?q=\" in page:\n",
    "        p = 'search-kw'    \n",
    "    if \"/inbo\" in page:\n",
    "        p = 'inbox'\n",
    "    if \"/booking/\" in page:\n",
    "        p = 'booking'\n",
    "    if \"/item/create\" in page:\n",
    "        p = 'item-create'\n",
    "    if \"/user/registration/post-registration\" in page:\n",
    "        p = 'post-reg'\n",
    "    if p == False:\n",
    "        p = 'unknown'\n",
    "    return p\n",
    "df = df.sort_values('created_at', ascending=True)\n",
    "df = df.groupby(\"session\").agg(lambda x: \"xxx\".join(x))  # type: pd.DataFrame\n",
    "sessions = []\n",
    "for i in df.itertuples():\n",
    "    pages = i.data.split('xxx')\n",
    "    user_pages = []\n",
    "    if len(pages) < 4:\n",
    "        continue\n",
    "    for p in pages:\n",
    "        if len(user_pages) >= 4:\n",
    "            break\n",
    "        user_pages.append(page_entity(p))\n",
    "    \n",
    "    sessions.append(user_pages)\n",
    "\n",
    "df = pd.DataFrame(sessions)\n",
    "\n",
    "df.to_csv(\"cluster.csv\")"
   ]
  },
  {
   "cell_type": "code",
   "execution_count": 2,
   "metadata": {},
   "outputs": [
    {
     "data": {
      "image/png": "[encoded data removed]"
     },
     "output_type": "display_data",
     "text": [
      "<IPython.core.display.Image object>"
     ],
     "metadata": {}
    }
   ],
   "source": [
    "from IPython.display import Image\n",
    "Image(filename='cluster/kmeans-5.png')"
   ]
  },
  {
   "cell_type": "markdown",
   "metadata": {},
   "source": [
    "This leaves about 1100 user clickstreams. Clustering it into 5 clustres results in the above. Quite clearly almost all starting at home, you can see that search is the clear second page visit. After that, quite some users tend to go back home, while others start browsing items."
   ]
  }
 ],
 "metadata": {
  "kernelspec": {
   "display_name": "Python 3",
   "language": "python",
   "name": "python3"
  },
  "language_info": {
   "codemirror_mode": {
    "name": "ipython",
    "version": 3.0
   },
   "file_extension": ".py",
   "mimetype": "text/x-python",
   "name": "python",
   "nbconvert_exporter": "python",
   "pygments_lexer": "ipython3",
   "version": "3.5.1"
  }
 },
 "nbformat": 4,
 "nbformat_minor": 0
}