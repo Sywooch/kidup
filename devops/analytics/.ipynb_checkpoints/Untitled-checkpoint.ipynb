{
 "cells": [
  {
   "cell_type": "markdown",
   "metadata": {},
   "source": [
    "How often are certain page types visited (search, item, home etc.)\n"
   ]
  },
  {
   "cell_type": "code",
   "execution_count": 69,
   "metadata": {
    "collapsed": false
   },
   "outputs": [
    {
     "data": {
      "image/png": "[encoded data removed]",
      "text/plain": [
       "<matplotlib.figure.Figure at 0x1fa92b519b0>"
      ]
     },
     "metadata": {},
     "output_type": "display_data"
    }
   ],
   "source": [
    "import pandas as pd\n",
    "from matplotlib import pyplot as plt\n",
    "%matplotlib inline\n",
    "\n",
    "df = pd.read_hdf(\"filtered_data.hdf\", \"df1\")\n",
    "\n",
    "def page_entity(page):\n",
    "    p = False\n",
    "    if page == \"/\" or page == '/home':\n",
    "        p = 'home'\n",
    "    if \"/item/\" in page:\n",
    "        p = 'item'\n",
    "    if \"/p/\" in page:\n",
    "        p = 'pages'    \n",
    "    if \"/user/\" in page:\n",
    "        p = 'user' \n",
    "    if \"/user/refe\" in page:\n",
    "        p = 'user-referral'         \n",
    "    if \"/search/\" in page:\n",
    "        p = 'search'  \n",
    "    if \"/inbox/\" in page:\n",
    "        p = 'inbox'  \n",
    "    if \"/booking/\" in page:\n",
    "        p = 'booking'        \n",
    "    if \"/item/create\" in page:\n",
    "        p = 'item-create' \n",
    "    if \"/user/registration/post-registration\" in page:\n",
    "        p = 'post-reg'     \n",
    "    if p == False:\n",
    "        p = 'unknown'\n",
    "    return p    \n",
    "\n",
    "df.data = df.data.apply(lambda x: page_entity(x))\n",
    "df_pv = df[ df.source == 1]\n",
    "df_pv = df_pv[ df_pv.type=='page_view']\n",
    "df_pv.data.groupby(df_pv.data).count().plot(kind=\"bar\", subplots=True)\n",
    "\n",
    "plt.show()\n"
   ]
  },
  {
   "cell_type": "markdown",
   "metadata": {},
   "source": [
    "How often do users return to our site, how many sessions?\n"
   ]
  },
  {
   "cell_type": "code",
   "execution_count": 71,
   "metadata": {
    "collapsed": false
   },
   "outputs": [
    {
     "name": "stdout",
     "output_type": "stream",
     "text": [
      "6250 Unique sessions\n",
      "437 Unique users\n",
      "833 Unique sessions from users\n",
      "1.9061784897025171 Avg sessions per user\n",
      "0.86672 Percentage sessions from non-user\n"
     ]
    }
   ],
   "source": [
    "df = pd.read_hdf(\"filtered_data.hdf\", \"df1\")\n",
    "df = df[df.source == 1]\n",
    "unique_sessions = df.session.nunique()\n",
    "user_session = df[pd.notnull(df.user_id)].session.nunique()\n",
    "print(df.session.nunique(), \"Unique sessions\")\n",
    "print(df.user_id.nunique(), \"Unique users\")\n",
    "print(df[pd.notnull(df.user_id)].session.nunique(), \"Unique sessions from users\")\n",
    "print(df[pd.notnull(df.user_id)].session.nunique() / df.user_id.nunique(), \"Avg sessions per user\")\n",
    "print((unique_sessions - user_session) / unique_sessions, \"Percentage sessions from non-user\")\n"
   ]
  },
  {
   "cell_type": "markdown",
   "metadata": {},
   "source": [
    "Where do a lot of users drop out (which pages)?"
   ]
  },
  {
   "cell_type": "code",
   "execution_count": null,
   "metadata": {
    "collapsed": true
   },
   "outputs": [],
   "source": [
    "df = pd.read_hdf(\"filtered_data.hdf\", \"df1\")\n",
    "df.data = df.data.apply(lambda x: page_entity(x))\n",
    "df_pv = df[ df.source == 1]\n",
    "df_pv = df_pv[ df_pv.type=='page_view']"
   ]
  }
 ],
 "metadata": {
  "kernelspec": {
   "display_name": "Python 3",
   "language": "python",
   "name": "python3"
  },
  "language_info": {
   "codemirror_mode": {
    "name": "ipython",
    "version": 3
   },
   "file_extension": ".py",
   "mimetype": "text/x-python",
   "name": "python",
   "nbconvert_exporter": "python",
   "pygments_lexer": "ipython3",
   "version": "3.5.1"
  }
 },
 "nbformat": 4,
 "nbformat_minor": 0
}
